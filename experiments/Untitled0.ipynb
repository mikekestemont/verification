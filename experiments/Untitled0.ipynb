{
 "metadata": {
  "name": "",
  "signature": "sha256:d9a997fbe62f1e0c656445fef2caf0d6cd637f7fdcdb3d93326a08f1d442d687"
 },
 "nbformat": 3,
 "nbformat_minor": 0,
 "worksheets": [
  {
   "cells": [
    {
     "cell_type": "code",
     "collapsed": false,
     "input": [
      "\n",
      "\n",
      "import matplotlib.pyplot as plt\n",
      "\n",
      "import matplotlib.gridspec as gridspec\n",
      "import seaborn as sb\n",
      "matplotlib.rcParams['lines.linewidth'] = 0.8\n",
      "from matplotlib.colors import rgb2hex\n",
      "from scipy.cluster.hierarchy import linkage, dendrogram, set_link_color_palette\n",
      "\n",
      "sb.set_palette('Set1', 10, 0.80)\n",
      "palette = sb.color_palette()\n",
      "set_link_color_palette(map(rgb2hex, palette))\n",
      "import pandas as pd"
     ],
     "language": "python",
     "metadata": {},
     "outputs": [],
     "prompt_number": 25
    },
    {
     "cell_type": "code",
     "collapsed": false,
     "input": [
      "df = pd.read_csv(\"../plots/caesar_test.csv\")"
     ],
     "language": "python",
     "metadata": {},
     "outputs": [],
     "prompt_number": 4
    },
    {
     "cell_type": "code",
     "collapsed": false,
     "input": [
      "df = df.set_index(\"id\")"
     ],
     "language": "python",
     "metadata": {},
     "outputs": [],
     "prompt_number": 6
    },
    {
     "cell_type": "code",
     "collapsed": false,
     "input": [
      "df = df.applymap(lambda x:int(x*1000))"
     ],
     "language": "python",
     "metadata": {},
     "outputs": [],
     "prompt_number": 7
    },
    {
     "cell_type": "code",
     "collapsed": false,
     "input": [
      "obj = sb.heatmap(df, square=True)"
     ],
     "language": "python",
     "metadata": {},
     "outputs": [],
     "prompt_number": 26
    },
    {
     "cell_type": "code",
     "collapsed": false,
     "input": [
      "sb.plt.show()"
     ],
     "language": "python",
     "metadata": {},
     "outputs": [],
     "prompt_number": 27
    }
   ],
   "metadata": {}
  }
 ]
}